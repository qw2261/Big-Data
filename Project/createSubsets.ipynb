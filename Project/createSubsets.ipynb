{
 "cells": [
  {
   "cell_type": "code",
   "execution_count": 3,
   "metadata": {},
   "outputs": [],
   "source": [
    "import pandas as pd\n",
    "import os\n",
    "import shutil"
   ]
  },
  {
   "cell_type": "code",
   "execution_count": 5,
   "metadata": {},
   "outputs": [],
   "source": [
    "df = pd.read_csv('FEC_dataset/train.csv',names = list(range(31)))\n",
    "failed = pd.read_csv(\"failed_triples.csv\")"
   ]
  },
  {
   "cell_type": "code",
   "execution_count": null,
   "metadata": {},
   "outputs": [],
   "source": [
    "def subset(limit):\n",
    "    visited = set()\n",
    "    row = 0\n",
    "    while row < limit:\n",
    "        if failed[\"0\"][row] == True:\n",
    "            row += 1\n",
    "            limit += 1\n",
    "        else:\n",
    "            for i in range(2):\n",
    "                file_name = df[i*5][row][7:].replace(\"/\",\"&\")\n",
    "                if not file_name in visited:\n",
    "                    try:\n",
    "                        shutil.copyfile(r\"full_data/cropped_160/{}\".format(file_name),r\"full_data/subset/{}\".format(file_name))\n",
    "                        visited.add(file_name)\n",
    "                    except Exception as e:\n",
    "                        print(e)\n",
    "                        print(row)\n",
    "            row += 1"
   ]
  }
 ],
 "metadata": {
  "kernelspec": {
   "display_name": "Python 3",
   "language": "python",
   "name": "python3"
  },
  "language_info": {
   "codemirror_mode": {
    "name": "ipython",
    "version": 3
   },
   "file_extension": ".py",
   "mimetype": "text/x-python",
   "name": "python",
   "nbconvert_exporter": "python",
   "pygments_lexer": "ipython3",
   "version": "3.7.3"
  }
 },
 "nbformat": 4,
 "nbformat_minor": 2
}
